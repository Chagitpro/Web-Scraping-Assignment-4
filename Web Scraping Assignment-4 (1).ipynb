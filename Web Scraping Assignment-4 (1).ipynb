{
 "cells": [
  {
   "cell_type": "markdown",
   "id": "bd34d652",
   "metadata": {},
   "source": [
    "# 2. Scrape the details team India’s international fixtures from bcci.tv."
   ]
  },
  {
   "cell_type": "code",
   "execution_count": 1,
   "id": "36a39430",
   "metadata": {},
   "outputs": [],
   "source": [
    "import selenium\n",
    "import pandas as pd\n",
    "from selenium import webdriver\n",
    "import warnings\n",
    "warnings.filterwarnings(\"ignore\")\n",
    "import time\n",
    "import re"
   ]
  },
  {
   "cell_type": "code",
   "execution_count": 2,
   "id": "16e7070e",
   "metadata": {},
   "outputs": [],
   "source": [
    "driver = webdriver.Chrome(r\"C:\\Users\\Administrator\\Downloads\\chromedriver_win32 (1)\\chromedriver.exe\")"
   ]
  },
  {
   "cell_type": "code",
   "execution_count": 3,
   "id": "af50a1e6",
   "metadata": {},
   "outputs": [],
   "source": [
    "driver.get('https://www.bcci.tv/')"
   ]
  },
  {
   "cell_type": "code",
   "execution_count": 5,
   "id": "52d07704",
   "metadata": {},
   "outputs": [],
   "source": [
    "search_button=driver.find_element_by_xpath(\"//li[@class='nav-item ml-0']\")\n",
    "search_button.click()"
   ]
  },
  {
   "cell_type": "code",
   "execution_count": 17,
   "id": "223eeecc",
   "metadata": {},
   "outputs": [],
   "source": [
    "match_title=[]\n",
    "series=[]\n",
    "place=[]\n",
    "date=[]\n",
    "time=[]"
   ]
  },
  {
   "cell_type": "code",
   "execution_count": 8,
   "id": "ccfdc206",
   "metadata": {},
   "outputs": [
    {
     "data": {
      "text/plain": [
       "[<selenium.webdriver.remote.webelement.WebElement (session=\"11220b52ec388b353e09d9c2a10ee340\", element=\"1156b276-78cc-4e6e-9ce1-c28a995d3200\")>]"
      ]
     },
     "execution_count": 8,
     "metadata": {},
     "output_type": "execute_result"
    }
   ],
   "source": [
    "titles_tags=driver.find_elements_by_xpath(\"//span[@class='ng-binding']\")\n",
    "titles_tags[0:1]"
   ]
  },
  {
   "cell_type": "code",
   "execution_count": 11,
   "id": "233c72e0",
   "metadata": {},
   "outputs": [
    {
     "data": {
      "text/plain": [
       "['SOUTH AFRICA TOUR OF INDIA T20 SERIES 2022']"
      ]
     },
     "execution_count": 11,
     "metadata": {},
     "output_type": "execute_result"
    }
   ],
   "source": [
    "for i in titles_tags:\n",
    "    title=i.text\n",
    "    match_title.append(title)\n",
    "match_title[0:1]"
   ]
  },
  {
   "cell_type": "code",
   "execution_count": 38,
   "id": "41502021",
   "metadata": {},
   "outputs": [
    {
     "data": {
      "text/plain": [
       "[<selenium.webdriver.remote.webelement.WebElement (session=\"11220b52ec388b353e09d9c2a10ee340\", element=\"1156b276-78cc-4e6e-9ce1-c28a995d3200\")>]"
      ]
     },
     "execution_count": 38,
     "metadata": {},
     "output_type": "execute_result"
    }
   ],
   "source": [
    "series=driver.find_elements_by_xpath(\"//span[@class='ng-binding']\")\n",
    "series[0:1]"
   ]
  },
  {
   "cell_type": "code",
   "execution_count": 41,
   "id": "3ce5a5da",
   "metadata": {},
   "outputs": [
    {
     "data": {
      "text/plain": [
       "'SOUTH AFRICA TOUR OF INDIA T20 SERIES 2022'"
      ]
     },
     "execution_count": 41,
     "metadata": {},
     "output_type": "execute_result"
    }
   ],
   "source": [
    "series"
   ]
  },
  {
   "cell_type": "code",
   "execution_count": 25,
   "id": "4a7d3583",
   "metadata": {},
   "outputs": [
    {
     "data": {
      "text/plain": [
       "[<selenium.webdriver.remote.webelement.WebElement (session=\"11220b52ec388b353e09d9c2a10ee340\", element=\"3ee34f51-766e-486e-95f1-4a29b3f2090f\")>]"
      ]
     },
     "execution_count": 25,
     "metadata": {},
     "output_type": "execute_result"
    }
   ],
   "source": [
    "place=driver.find_elements_by_xpath(\"//span[@class='ng-binding ng-scope']\")\n",
    "place[0:1]"
   ]
  },
  {
   "cell_type": "code",
   "execution_count": 28,
   "id": "ef48233a",
   "metadata": {},
   "outputs": [
    {
     "data": {
      "text/plain": [
       "'Arun Jaitley Stadium,'"
      ]
     },
     "execution_count": 28,
     "metadata": {},
     "output_type": "execute_result"
    }
   ],
   "source": [
    "place"
   ]
  },
  {
   "cell_type": "code",
   "execution_count": 29,
   "id": "166c1693",
   "metadata": {},
   "outputs": [
    {
     "data": {
      "text/plain": [
       "[<selenium.webdriver.remote.webelement.WebElement (session=\"11220b52ec388b353e09d9c2a10ee340\", element=\"3501d00a-0079-4827-b3bb-20895ddf8e81\")>]"
      ]
     },
     "execution_count": 29,
     "metadata": {},
     "output_type": "execute_result"
    }
   ],
   "source": [
    "date=driver.find_elements_by_xpath(\"//h5[@class='ng-binding']\")\n",
    "date[0:1]"
   ]
  },
  {
   "cell_type": "code",
   "execution_count": 33,
   "id": "72b69822",
   "metadata": {},
   "outputs": [
    {
     "data": {
      "text/plain": [
       "'9 JUN 2022'"
      ]
     },
     "execution_count": 33,
     "metadata": {},
     "output_type": "execute_result"
    }
   ],
   "source": [
    "date"
   ]
  },
  {
   "cell_type": "code",
   "execution_count": 34,
   "id": "ac6c5dfe",
   "metadata": {},
   "outputs": [
    {
     "data": {
      "text/plain": [
       "[<selenium.webdriver.remote.webelement.WebElement (session=\"11220b52ec388b353e09d9c2a10ee340\", element=\"ed7f9dd5-892d-4b40-8ca7-5068e813eeab\")>]"
      ]
     },
     "execution_count": 34,
     "metadata": {},
     "output_type": "execute_result"
    }
   ],
   "source": [
    "time=driver.find_elements_by_xpath(\"//h5[@class='text-right ng-binding']\")\n",
    "time[0:1]"
   ]
  },
  {
   "cell_type": "code",
   "execution_count": 37,
   "id": "605e64f5",
   "metadata": {},
   "outputs": [
    {
     "data": {
      "text/plain": [
       "'7:00 PM IST'"
      ]
     },
     "execution_count": 37,
     "metadata": {},
     "output_type": "execute_result"
    }
   ],
   "source": [
    "time"
   ]
  },
  {
   "cell_type": "code",
   "execution_count": 42,
   "id": "0ead5014",
   "metadata": {},
   "outputs": [],
   "source": [
    "driver.close()"
   ]
  },
  {
   "cell_type": "markdown",
   "id": "5256ea39",
   "metadata": {},
   "source": [
    "# 8. Scrape the details of Highest selling novels."
   ]
  },
  {
   "cell_type": "code",
   "execution_count": 43,
   "id": "10df1c79",
   "metadata": {},
   "outputs": [],
   "source": [
    "import selenium\n",
    "import pandas as pd\n",
    "from selenium import webdriver\n",
    "import warnings\n",
    "warnings.filterwarnings(\"ignore\")\n",
    "import time\n",
    "import re"
   ]
  },
  {
   "cell_type": "code",
   "execution_count": 44,
   "id": "36b4c3c2",
   "metadata": {},
   "outputs": [],
   "source": [
    "driver = webdriver.Chrome(r\"C:\\Users\\Administrator\\Downloads\\chromedriver_win32 (1)\\chromedriver.exe\")"
   ]
  },
  {
   "cell_type": "code",
   "execution_count": 45,
   "id": "55afa3e1",
   "metadata": {},
   "outputs": [],
   "source": [
    "driver.get('https://www.theguardian.com/news/datablog/2012/aug/09/best-selling-books-all-time-fifty-shades-grey-compare')"
   ]
  },
  {
   "cell_type": "code",
   "execution_count": 46,
   "id": "5bbfe9b9",
   "metadata": {},
   "outputs": [],
   "source": [
    "book_name=[]\n",
    "author_name=[]\n",
    "volumes_sold=[]\n",
    "publisher=[]\n",
    "genre=[]"
   ]
  },
  {
   "cell_type": "code",
   "execution_count": 51,
   "id": "2d57055c",
   "metadata": {},
   "outputs": [
    {
     "data": {
      "text/plain": [
       "[<selenium.webdriver.remote.webelement.WebElement (session=\"202d074c9a031df8855fcdf0f8c065f4\", element=\"2d5877fc-d04b-4959-9075-7659327d8953\")>]"
      ]
     },
     "execution_count": 51,
     "metadata": {},
     "output_type": "execute_result"
    }
   ],
   "source": [
    "book_name=driver.find_elements_by_xpath(\"/html/body/div/div[2]/div[2]/div/div[2]/div/table/tbody/tr[2]/td[2]\")\n",
    "book_name[0:1]"
   ]
  },
  {
   "cell_type": "code",
   "execution_count": 55,
   "id": "8adae27b",
   "metadata": {},
   "outputs": [
    {
     "data": {
      "text/plain": [
       "'Harry Potter and the Deathly Hallows'"
      ]
     },
     "execution_count": 55,
     "metadata": {},
     "output_type": "execute_result"
    }
   ],
   "source": [
    "book_name"
   ]
  },
  {
   "cell_type": "code",
   "execution_count": 56,
   "id": "5a806279",
   "metadata": {},
   "outputs": [
    {
     "data": {
      "text/plain": [
       "[<selenium.webdriver.remote.webelement.WebElement (session=\"202d074c9a031df8855fcdf0f8c065f4\", element=\"800f7435-067f-4d3c-9d21-a9b4ac6fb6e5\")>]"
      ]
     },
     "execution_count": 56,
     "metadata": {},
     "output_type": "execute_result"
    }
   ],
   "source": [
    "author_name=driver.find_elements_by_xpath(\"/html/body/div/div[2]/div[2]/div/div[2]/div/table/tbody/tr[2]/td[3]\")\n",
    "author_name[0:1]"
   ]
  },
  {
   "cell_type": "code",
   "execution_count": 59,
   "id": "fa064d38",
   "metadata": {},
   "outputs": [
    {
     "data": {
      "text/plain": [
       "'Rowling, J.K.'"
      ]
     },
     "execution_count": 59,
     "metadata": {},
     "output_type": "execute_result"
    }
   ],
   "source": [
    "author_name"
   ]
  },
  {
   "cell_type": "code",
   "execution_count": 60,
   "id": "a8daad52",
   "metadata": {},
   "outputs": [
    {
     "data": {
      "text/plain": [
       "[<selenium.webdriver.remote.webelement.WebElement (session=\"202d074c9a031df8855fcdf0f8c065f4\", element=\"5f8aa92d-d5b7-4af6-9fcc-7950518727a0\")>]"
      ]
     },
     "execution_count": 60,
     "metadata": {},
     "output_type": "execute_result"
    }
   ],
   "source": [
    "volumes_sold=driver.find_elements_by_xpath(\"/html/body/div/div[2]/div[2]/div/div[2]/div/table/tbody/tr[2]/td[4]\")\n",
    "volumes_sold[0:1]"
   ]
  },
  {
   "cell_type": "code",
   "execution_count": 62,
   "id": "ee1c2380",
   "metadata": {},
   "outputs": [
    {
     "data": {
      "text/plain": [
       "'4,475,152'"
      ]
     },
     "execution_count": 62,
     "metadata": {},
     "output_type": "execute_result"
    }
   ],
   "source": [
    "volumes_sold"
   ]
  },
  {
   "cell_type": "code",
   "execution_count": 63,
   "id": "e44ecbea",
   "metadata": {},
   "outputs": [
    {
     "data": {
      "text/plain": [
       "[<selenium.webdriver.remote.webelement.WebElement (session=\"202d074c9a031df8855fcdf0f8c065f4\", element=\"321e92eb-00e8-4290-bc40-e9edfe26a2b5\")>]"
      ]
     },
     "execution_count": 63,
     "metadata": {},
     "output_type": "execute_result"
    }
   ],
   "source": [
    "publisher=driver.find_elements_by_xpath(\"/html/body/div/div[2]/div[2]/div/div[2]/div/table/tbody/tr[2]/td[5]\")\n",
    "publisher[0:1]"
   ]
  },
  {
   "cell_type": "code",
   "execution_count": 66,
   "id": "c305505c",
   "metadata": {},
   "outputs": [
    {
     "data": {
      "text/plain": [
       "'Bloomsbury'"
      ]
     },
     "execution_count": 66,
     "metadata": {},
     "output_type": "execute_result"
    }
   ],
   "source": [
    "publisher"
   ]
  },
  {
   "cell_type": "code",
   "execution_count": 67,
   "id": "510bb093",
   "metadata": {},
   "outputs": [
    {
     "data": {
      "text/plain": [
       "[<selenium.webdriver.remote.webelement.WebElement (session=\"202d074c9a031df8855fcdf0f8c065f4\", element=\"0252ac40-ed44-4d66-9cd0-543a2c410423\")>]"
      ]
     },
     "execution_count": 67,
     "metadata": {},
     "output_type": "execute_result"
    }
   ],
   "source": [
    "genre=driver.find_elements_by_xpath(\"/html/body/div/div[2]/div[2]/div/div[2]/div/table/tbody/tr[2]/td[6]\")\n",
    "genre[0:1]"
   ]
  },
  {
   "cell_type": "code",
   "execution_count": 69,
   "id": "7f8e0afd",
   "metadata": {},
   "outputs": [
    {
     "data": {
      "text/plain": [
       "\"Children's Fiction\""
      ]
     },
     "execution_count": 69,
     "metadata": {},
     "output_type": "execute_result"
    }
   ],
   "source": [
    "genre"
   ]
  },
  {
   "cell_type": "code",
   "execution_count": 70,
   "id": "bb1aeff5",
   "metadata": {},
   "outputs": [],
   "source": [
    "driver.close()"
   ]
  },
  {
   "cell_type": "markdown",
   "id": "99fc8957",
   "metadata": {},
   "source": [
    "# 10. Details of Datasets from UCI machine learning repositories."
   ]
  },
  {
   "cell_type": "code",
   "execution_count": 20,
   "id": "1e31c8f5",
   "metadata": {},
   "outputs": [],
   "source": [
    "import selenium\n",
    "import pandas as pd\n",
    "from selenium import webdriver\n",
    "import warnings\n",
    "warnings.filterwarnings(\"ignore\")\n",
    "import time\n",
    "import re\n",
    "from selenium.common.exceptions import StaleElementReferenceException, NoSuchElementException"
   ]
  },
  {
   "cell_type": "code",
   "execution_count": 22,
   "id": "3dff5aeb",
   "metadata": {},
   "outputs": [],
   "source": [
    "driver = webdriver.Chrome(r\"C:\\Users\\Administrator\\Downloads\\chromedriver_win32 (1)\\chromedriver.exe\")"
   ]
  },
  {
   "cell_type": "code",
   "execution_count": 23,
   "id": "d51c88da",
   "metadata": {},
   "outputs": [],
   "source": [
    "driver.get('https://archive.ics.uci.edu/')"
   ]
  },
  {
   "cell_type": "code",
   "execution_count": 24,
   "id": "4d430f41",
   "metadata": {},
   "outputs": [],
   "source": [
    "dataset_name=[]\n",
    "data_type=[]\n",
    "Task=[]\n",
    "attribute_type=[]\n",
    "No_of_instances=[]\n",
    "No_of_attribute=[]\n",
    "year=[]"
   ]
  },
  {
   "cell_type": "code",
   "execution_count": 25,
   "id": "74cf407b",
   "metadata": {},
   "outputs": [
    {
     "data": {
      "text/plain": [
       "[<selenium.webdriver.remote.webelement.WebElement (session=\"4ff95771d535a39abb603eddb37a1ec8\", element=\"f0224410-406d-4e84-8b88-43d61c749bf8\")>]"
      ]
     },
     "execution_count": 25,
     "metadata": {},
     "output_type": "execute_result"
    }
   ],
   "source": [
    "dataset_name=driver.find_elements_by_xpath(\"/html/body/table[2]/tbody/tr/td/table[1]/tbody/tr/td[1]/p[1]/span[1]\")\n",
    "dataset_name[0:1]"
   ]
  },
  {
   "cell_type": "code",
   "execution_count": 29,
   "id": "c3ed57ef",
   "metadata": {},
   "outputs": [
    {
     "data": {
      "text/plain": [
       "[<selenium.webdriver.remote.webelement.WebElement (session=\"4ff95771d535a39abb603eddb37a1ec8\", element=\"f0224410-406d-4e84-8b88-43d61c749bf8\")>,\n",
       " '9mers from cullpdb Data Set']"
      ]
     },
     "execution_count": 29,
     "metadata": {},
     "output_type": "execute_result"
    }
   ],
   "source": [
    "dataset_name"
   ]
  },
  {
   "cell_type": "code",
   "execution_count": 30,
   "id": "7739b6df",
   "metadata": {},
   "outputs": [
    {
     "data": {
      "text/plain": [
       "[<selenium.webdriver.remote.webelement.WebElement (session=\"4ff95771d535a39abb603eddb37a1ec8\", element=\"e2707d1d-ec2b-4c11-be0a-d670f95140f4\")>]"
      ]
     },
     "execution_count": 30,
     "metadata": {},
     "output_type": "execute_result"
    }
   ],
   "source": [
    "data_type=driver.find_elements_by_xpath(\"/html/body/table[2]/tbody/tr/td/table[2]/tbody/tr[1]/td[2]/p\")\n",
    "data_type[0:1]"
   ]
  },
  {
   "cell_type": "code",
   "execution_count": 33,
   "id": "480bab83",
   "metadata": {},
   "outputs": [
    {
     "data": {
      "text/plain": [
       "[<selenium.webdriver.remote.webelement.WebElement (session=\"4ff95771d535a39abb603eddb37a1ec8\", element=\"e2707d1d-ec2b-4c11-be0a-d670f95140f4\")>,\n",
       " 'Sequential']"
      ]
     },
     "execution_count": 33,
     "metadata": {},
     "output_type": "execute_result"
    }
   ],
   "source": [
    "data_type"
   ]
  },
  {
   "cell_type": "code",
   "execution_count": 34,
   "id": "f3c0407f",
   "metadata": {},
   "outputs": [
    {
     "data": {
      "text/plain": [
       "[<selenium.webdriver.remote.webelement.WebElement (session=\"4ff95771d535a39abb603eddb37a1ec8\", element=\"2ab7a4dd-bc40-4685-bf05-b4b8f17986f8\")>]"
      ]
     },
     "execution_count": 34,
     "metadata": {},
     "output_type": "execute_result"
    }
   ],
   "source": [
    "Task=driver.find_elements_by_xpath(\"/html/body/table[2]/tbody/tr/td/table[2]/tbody/tr[3]/td[2]/p\")\n",
    "Task[0:1]"
   ]
  },
  {
   "cell_type": "code",
   "execution_count": 37,
   "id": "d126336b",
   "metadata": {},
   "outputs": [
    {
     "data": {
      "text/plain": [
       "[<selenium.webdriver.remote.webelement.WebElement (session=\"4ff95771d535a39abb603eddb37a1ec8\", element=\"2ab7a4dd-bc40-4685-bf05-b4b8f17986f8\")>,\n",
       " 'Classification, Regression']"
      ]
     },
     "execution_count": 37,
     "metadata": {},
     "output_type": "execute_result"
    }
   ],
   "source": [
    "Task"
   ]
  },
  {
   "cell_type": "code",
   "execution_count": 38,
   "id": "bd1b464f",
   "metadata": {},
   "outputs": [
    {
     "data": {
      "text/plain": [
       "[<selenium.webdriver.remote.webelement.WebElement (session=\"4ff95771d535a39abb603eddb37a1ec8\", element=\"61994dd7-6fb4-484c-a9ee-2ba7567d75fe\")>]"
      ]
     },
     "execution_count": 38,
     "metadata": {},
     "output_type": "execute_result"
    }
   ],
   "source": [
    "attribute_type=driver.find_elements_by_xpath(\"/html/body/table[2]/tbody/tr/td/table[2]/tbody/tr[2]/td[2]/p\")\n",
    "attribute_type[0:1]"
   ]
  },
  {
   "cell_type": "code",
   "execution_count": 40,
   "id": "c8eb0b6c",
   "metadata": {},
   "outputs": [
    {
     "data": {
      "text/plain": [
       "[<selenium.webdriver.remote.webelement.WebElement (session=\"4ff95771d535a39abb603eddb37a1ec8\", element=\"61994dd7-6fb4-484c-a9ee-2ba7567d75fe\")>,\n",
       " 'Real']"
      ]
     },
     "execution_count": 40,
     "metadata": {},
     "output_type": "execute_result"
    }
   ],
   "source": [
    "attribute_type"
   ]
  },
  {
   "cell_type": "code",
   "execution_count": 41,
   "id": "e113b84f",
   "metadata": {},
   "outputs": [
    {
     "data": {
      "text/plain": [
       "[<selenium.webdriver.remote.webelement.WebElement (session=\"4ff95771d535a39abb603eddb37a1ec8\", element=\"3b76df5f-1689-4bbb-a580-ce071240d7c0\")>]"
      ]
     },
     "execution_count": 41,
     "metadata": {},
     "output_type": "execute_result"
    }
   ],
   "source": [
    "No_of_instances=driver.find_elements_by_xpath(\"/html/body/table[2]/tbody/tr/td/table[2]/tbody/tr[1]/td[4]/p\")\n",
    "No_of_instances[0:1]"
   ]
  },
  {
   "cell_type": "code",
   "execution_count": 43,
   "id": "f7a6253f",
   "metadata": {},
   "outputs": [
    {
     "data": {
      "text/plain": [
       "[<selenium.webdriver.remote.webelement.WebElement (session=\"4ff95771d535a39abb603eddb37a1ec8\", element=\"3b76df5f-1689-4bbb-a580-ce071240d7c0\")>,\n",
       " '158716']"
      ]
     },
     "execution_count": 43,
     "metadata": {},
     "output_type": "execute_result"
    }
   ],
   "source": [
    "No_of_instances"
   ]
  },
  {
   "cell_type": "code",
   "execution_count": 44,
   "id": "a51c6aaa",
   "metadata": {},
   "outputs": [
    {
     "data": {
      "text/plain": [
       "[<selenium.webdriver.remote.webelement.WebElement (session=\"4ff95771d535a39abb603eddb37a1ec8\", element=\"7fdba524-3370-4da1-88a7-22606cfd651d\")>]"
      ]
     },
     "execution_count": 44,
     "metadata": {},
     "output_type": "execute_result"
    }
   ],
   "source": [
    "No_of_attribute=driver.find_elements_by_xpath(\"/html/body/table[2]/tbody/tr/td/table[2]/tbody/tr[2]/td[4]/p\")\n",
    "No_of_attribute[0:1]"
   ]
  },
  {
   "cell_type": "code",
   "execution_count": 46,
   "id": "d581f5ba",
   "metadata": {},
   "outputs": [
    {
     "data": {
      "text/plain": [
       "[<selenium.webdriver.remote.webelement.WebElement (session=\"4ff95771d535a39abb603eddb37a1ec8\", element=\"7fdba524-3370-4da1-88a7-22606cfd651d\")>,\n",
       " '4']"
      ]
     },
     "execution_count": 46,
     "metadata": {},
     "output_type": "execute_result"
    }
   ],
   "source": [
    "No_of_attribute"
   ]
  },
  {
   "cell_type": "code",
   "execution_count": 47,
   "id": "cf853cd3",
   "metadata": {},
   "outputs": [
    {
     "data": {
      "text/plain": [
       "[<selenium.webdriver.remote.webelement.WebElement (session=\"4ff95771d535a39abb603eddb37a1ec8\", element=\"f1a5de4e-c335-457d-96b1-d2b6c88bd8ae\")>]"
      ]
     },
     "execution_count": 47,
     "metadata": {},
     "output_type": "execute_result"
    }
   ],
   "source": [
    "year=driver.find_elements_by_xpath(\"/html/body/table[2]/tbody/tr/td/table[2]/tbody/tr[2]/td[6]/p\")\n",
    "year[0:1]"
   ]
  },
  {
   "cell_type": "code",
   "execution_count": 49,
   "id": "44abf7f5",
   "metadata": {},
   "outputs": [
    {
     "data": {
      "text/plain": [
       "[<selenium.webdriver.remote.webelement.WebElement (session=\"4ff95771d535a39abb603eddb37a1ec8\", element=\"f1a5de4e-c335-457d-96b1-d2b6c88bd8ae\")>,\n",
       " '2021-05-25']"
      ]
     },
     "execution_count": 49,
     "metadata": {},
     "output_type": "execute_result"
    }
   ],
   "source": [
    "year"
   ]
  },
  {
   "cell_type": "code",
   "execution_count": 50,
   "id": "0e36651f",
   "metadata": {},
   "outputs": [],
   "source": [
    "driver.close()"
   ]
  },
  {
   "cell_type": "markdown",
   "id": "2504753f",
   "metadata": {},
   "source": [
    "# 9. Scrape the details most watched tv series of all time from imdb.com."
   ]
  },
  {
   "cell_type": "code",
   "execution_count": 35,
   "id": "f627565b",
   "metadata": {},
   "outputs": [],
   "source": [
    "import selenium\n",
    "import pandas as pd\n",
    "from selenium import webdriver\n",
    "import warnings\n",
    "warnings.filterwarnings(\"ignore\")\n",
    "import time\n",
    "import re"
   ]
  },
  {
   "cell_type": "code",
   "execution_count": 36,
   "id": "c0fdee0c",
   "metadata": {},
   "outputs": [],
   "source": [
    "driver = webdriver.Chrome(r\"C:\\Users\\Administrator\\Downloads\\chromedriver_win32 (1)\\chromedriver.exe\")"
   ]
  },
  {
   "cell_type": "code",
   "execution_count": 37,
   "id": "28e3a6cc",
   "metadata": {},
   "outputs": [],
   "source": [
    "driver.get('https://www.imdb.com/list/ls095964455/')"
   ]
  },
  {
   "cell_type": "code",
   "execution_count": 38,
   "id": "fb608400",
   "metadata": {},
   "outputs": [
    {
     "data": {
      "text/plain": [
       "[<selenium.webdriver.remote.webelement.WebElement (session=\"c16cac0df3b6b343ad04eec45f63e4c8\", element=\"2e9ec56d-8684-4499-909a-59faa87c5784\")>]"
      ]
     },
     "execution_count": 38,
     "metadata": {},
     "output_type": "execute_result"
    }
   ],
   "source": [
    "Movie_name=driver.find_elements_by_xpath(\"/html/body/div[3]/div/div[2]/div[3]/div[1]/div/div[3]/div[3]/div[1]/div[2]/h3\")\n",
    "Movie_name[0:1]"
   ]
  },
  {
   "cell_type": "code",
   "execution_count": 41,
   "id": "acd3e27d",
   "metadata": {},
   "outputs": [
    {
     "data": {
      "text/plain": [
       "[<selenium.webdriver.remote.webelement.WebElement (session=\"c16cac0df3b6b343ad04eec45f63e4c8\", element=\"2e9ec56d-8684-4499-909a-59faa87c5784\")>,\n",
       " '1. Game of Thrones (2011–2019)']"
      ]
     },
     "execution_count": 41,
     "metadata": {},
     "output_type": "execute_result"
    }
   ],
   "source": [
    "Movie_name"
   ]
  },
  {
   "cell_type": "code",
   "execution_count": 42,
   "id": "18df91b4",
   "metadata": {},
   "outputs": [
    {
     "data": {
      "text/plain": [
       "[<selenium.webdriver.remote.webelement.WebElement (session=\"c16cac0df3b6b343ad04eec45f63e4c8\", element=\"d9656560-4082-49a1-ba86-7896c282cbdd\")>]"
      ]
     },
     "execution_count": 42,
     "metadata": {},
     "output_type": "execute_result"
    }
   ],
   "source": [
    "Year_span=driver.find_elements_by_xpath(\"/html/body/div[3]/div/div[2]/div[3]/div[1]/div/div[3]/div[3]/div[1]/div[2]/h3/span[2]\")\n",
    "Year_span[0:1]"
   ]
  },
  {
   "cell_type": "code",
   "execution_count": 45,
   "id": "635f8ea5",
   "metadata": {},
   "outputs": [
    {
     "data": {
      "text/plain": [
       "[<selenium.webdriver.remote.webelement.WebElement (session=\"c16cac0df3b6b343ad04eec45f63e4c8\", element=\"d9656560-4082-49a1-ba86-7896c282cbdd\")>,\n",
       " '(2011–2019)']"
      ]
     },
     "execution_count": 45,
     "metadata": {},
     "output_type": "execute_result"
    }
   ],
   "source": [
    "Year_span"
   ]
  },
  {
   "cell_type": "code",
   "execution_count": 46,
   "id": "70032d16",
   "metadata": {},
   "outputs": [
    {
     "data": {
      "text/plain": [
       "[<selenium.webdriver.remote.webelement.WebElement (session=\"c16cac0df3b6b343ad04eec45f63e4c8\", element=\"14146657-51f4-4a3b-a5ec-7a787c305b52\")>]"
      ]
     },
     "execution_count": 46,
     "metadata": {},
     "output_type": "execute_result"
    }
   ],
   "source": [
    "Genre=driver.find_elements_by_xpath(\"/html/body/div[3]/div/div[2]/div[3]/div[1]/div/div[3]/div[3]/div[1]/div[2]/p[1]/span[5]\")\n",
    "Genre[0:1]"
   ]
  },
  {
   "cell_type": "code",
   "execution_count": 48,
   "id": "648b42f1",
   "metadata": {},
   "outputs": [
    {
     "data": {
      "text/plain": [
       "[<selenium.webdriver.remote.webelement.WebElement (session=\"c16cac0df3b6b343ad04eec45f63e4c8\", element=\"14146657-51f4-4a3b-a5ec-7a787c305b52\")>,\n",
       " 'Action, Adventure, Drama']"
      ]
     },
     "execution_count": 48,
     "metadata": {},
     "output_type": "execute_result"
    }
   ],
   "source": [
    "Genre"
   ]
  },
  {
   "cell_type": "code",
   "execution_count": 49,
   "id": "c621e612",
   "metadata": {},
   "outputs": [
    {
     "data": {
      "text/plain": [
       "[<selenium.webdriver.remote.webelement.WebElement (session=\"c16cac0df3b6b343ad04eec45f63e4c8\", element=\"1cbf3b41-08ee-4fb0-ba80-c95dfc4d7ae3\")>]"
      ]
     },
     "execution_count": 49,
     "metadata": {},
     "output_type": "execute_result"
    }
   ],
   "source": [
    "Run_time=driver.find_elements_by_xpath(\"/html/body/div[3]/div/div[2]/div[3]/div[1]/div/div[3]/div[3]/div[1]/div[2]/p[1]/span[3]\")\n",
    "Run_time[0:1]"
   ]
  },
  {
   "cell_type": "code",
   "execution_count": 51,
   "id": "0e049ab1",
   "metadata": {},
   "outputs": [
    {
     "data": {
      "text/plain": [
       "[<selenium.webdriver.remote.webelement.WebElement (session=\"c16cac0df3b6b343ad04eec45f63e4c8\", element=\"1cbf3b41-08ee-4fb0-ba80-c95dfc4d7ae3\")>,\n",
       " '57 min']"
      ]
     },
     "execution_count": 51,
     "metadata": {},
     "output_type": "execute_result"
    }
   ],
   "source": [
    "Run_time"
   ]
  },
  {
   "cell_type": "code",
   "execution_count": 52,
   "id": "adaa4cd5",
   "metadata": {},
   "outputs": [
    {
     "data": {
      "text/plain": [
       "[<selenium.webdriver.remote.webelement.WebElement (session=\"c16cac0df3b6b343ad04eec45f63e4c8\", element=\"9273d880-9f3e-4284-a837-a9df88b52637\")>]"
      ]
     },
     "execution_count": 52,
     "metadata": {},
     "output_type": "execute_result"
    }
   ],
   "source": [
    "Ratings=driver.find_elements_by_xpath(\"/html/body/div[3]/div/div[2]/div[3]/div[1]/div/div[3]/div[3]/div[1]/div[2]/div[1]/div[1]/span[2]\")\n",
    "Ratings[0:1]"
   ]
  },
  {
   "cell_type": "code",
   "execution_count": 54,
   "id": "3d8a66b4",
   "metadata": {},
   "outputs": [
    {
     "data": {
      "text/plain": [
       "[<selenium.webdriver.remote.webelement.WebElement (session=\"c16cac0df3b6b343ad04eec45f63e4c8\", element=\"9273d880-9f3e-4284-a837-a9df88b52637\")>,\n",
       " '9.2']"
      ]
     },
     "execution_count": 54,
     "metadata": {},
     "output_type": "execute_result"
    }
   ],
   "source": [
    "Ratings"
   ]
  },
  {
   "cell_type": "code",
   "execution_count": 55,
   "id": "c843943b",
   "metadata": {},
   "outputs": [
    {
     "data": {
      "text/plain": [
       "[<selenium.webdriver.remote.webelement.WebElement (session=\"c16cac0df3b6b343ad04eec45f63e4c8\", element=\"9944bb25-326f-4fc5-8513-3a9cc3da15ac\")>]"
      ]
     },
     "execution_count": 55,
     "metadata": {},
     "output_type": "execute_result"
    }
   ],
   "source": [
    "Votes=driver.find_elements_by_xpath(\"/html/body/div[3]/div/div[2]/div[3]/div[1]/div/div[3]/div[3]/div[1]/div[2]/p[4]\")\n",
    "Votes[0:1]"
   ]
  },
  {
   "cell_type": "code",
   "execution_count": 57,
   "id": "8c0af61b",
   "metadata": {},
   "outputs": [
    {
     "data": {
      "text/plain": [
       "[<selenium.webdriver.remote.webelement.WebElement (session=\"c16cac0df3b6b343ad04eec45f63e4c8\", element=\"9944bb25-326f-4fc5-8513-3a9cc3da15ac\")>,\n",
       " 'Votes: 1,993,992']"
      ]
     },
     "execution_count": 57,
     "metadata": {},
     "output_type": "execute_result"
    }
   ],
   "source": [
    "Votes"
   ]
  },
  {
   "cell_type": "code",
   "execution_count": 58,
   "id": "dd87fe4f",
   "metadata": {},
   "outputs": [],
   "source": [
    "driver.close()"
   ]
  },
  {
   "cell_type": "markdown",
   "id": "dc3b5657",
   "metadata": {},
   "source": [
    "# 6. Scrape the details of top 100 songs on billiboard.com."
   ]
  },
  {
   "cell_type": "code",
   "execution_count": 74,
   "id": "370e8a98",
   "metadata": {},
   "outputs": [],
   "source": [
    "import selenium\n",
    "import pandas as pd\n",
    "from selenium import webdriver\n",
    "import warnings\n",
    "warnings.filterwarnings(\"ignore\")\n",
    "import time\n",
    "import re"
   ]
  },
  {
   "cell_type": "code",
   "execution_count": 75,
   "id": "46c6422e",
   "metadata": {},
   "outputs": [],
   "source": [
    "driver = webdriver.Chrome(r\"C:\\Users\\Administrator\\Downloads\\chromedriver_win32 (1)\\chromedriver.exe\")"
   ]
  },
  {
   "cell_type": "code",
   "execution_count": 76,
   "id": "256fa0a4",
   "metadata": {},
   "outputs": [],
   "source": [
    "driver.get('https:/www.billboard.com/')"
   ]
  },
  {
   "cell_type": "code",
   "execution_count": 82,
   "id": "00af442e",
   "metadata": {},
   "outputs": [],
   "source": [
    "search_button=driver.find_element_by_xpath(\"/html/body/div[3]/header/div[1]/div/div/div[2]/div/nav/ul/li[1]\")\n",
    "search_button.click()"
   ]
  },
  {
   "cell_type": "code",
   "execution_count": 83,
   "id": "7ef2e569",
   "metadata": {},
   "outputs": [],
   "source": [
    "search_button=driver.find_element_by_xpath(\"/html/body/div[3]/main/div[2]/div[1]/div[1]/div/div/div[1]/div[1]/div[2]/span/a\")\n",
    "search_button.click()"
   ]
  },
  {
   "cell_type": "code",
   "execution_count": 84,
   "id": "f79a5d51",
   "metadata": {},
   "outputs": [],
   "source": [
    "Song_name=[]\n",
    "Artist_name=[]\n",
    "Last_week_rank=[]\n",
    "Peak_rank=[]\n",
    "Weeks_on_board=[]"
   ]
  },
  {
   "cell_type": "code",
   "execution_count": 85,
   "id": "8477a4c7",
   "metadata": {},
   "outputs": [
    {
     "data": {
      "text/plain": [
       "[<selenium.webdriver.remote.webelement.WebElement (session=\"bd74fe8a7df2bc00f9d67528925cb8c6\", element=\"b019ec4d-0e8d-4869-9849-b347c76e20b5\")>]"
      ]
     },
     "execution_count": 85,
     "metadata": {},
     "output_type": "execute_result"
    }
   ],
   "source": [
    "Song_name=driver.find_elements_by_xpath(\"/html/body/div[4]/main/div[2]/div[3]/div/div/div/div[2]/div[2]/ul/li[4]/ul/li[1]/h3\")\n",
    "Song_name[0:1]"
   ]
  },
  {
   "cell_type": "code",
   "execution_count": 88,
   "id": "75d22f74",
   "metadata": {},
   "outputs": [
    {
     "data": {
      "text/plain": [
       "[<selenium.webdriver.remote.webelement.WebElement (session=\"bd74fe8a7df2bc00f9d67528925cb8c6\", element=\"b019ec4d-0e8d-4869-9849-b347c76e20b5\")>,\n",
       " 'As It Was']"
      ]
     },
     "execution_count": 88,
     "metadata": {},
     "output_type": "execute_result"
    }
   ],
   "source": [
    "Song_name"
   ]
  },
  {
   "cell_type": "code",
   "execution_count": 89,
   "id": "d37d39e1",
   "metadata": {},
   "outputs": [
    {
     "data": {
      "text/plain": [
       "[<selenium.webdriver.remote.webelement.WebElement (session=\"bd74fe8a7df2bc00f9d67528925cb8c6\", element=\"a5fd12f3-50b2-4ff1-8cec-1205beeefc48\")>]"
      ]
     },
     "execution_count": 89,
     "metadata": {},
     "output_type": "execute_result"
    }
   ],
   "source": [
    "Artist_name=driver.find_elements_by_xpath(\"/html/body/div[4]/main/div[2]/div[3]/div/div/div/div[2]/div[2]/ul/li[4]/ul/li[1]/span\")\n",
    "Artist_name[0:1]"
   ]
  },
  {
   "cell_type": "code",
   "execution_count": 91,
   "id": "ab304abe",
   "metadata": {},
   "outputs": [
    {
     "data": {
      "text/plain": [
       "[<selenium.webdriver.remote.webelement.WebElement (session=\"bd74fe8a7df2bc00f9d67528925cb8c6\", element=\"a5fd12f3-50b2-4ff1-8cec-1205beeefc48\")>,\n",
       " 'Harry Styles']"
      ]
     },
     "execution_count": 91,
     "metadata": {},
     "output_type": "execute_result"
    }
   ],
   "source": [
    "Artist_name"
   ]
  },
  {
   "cell_type": "code",
   "execution_count": 92,
   "id": "075b0265",
   "metadata": {},
   "outputs": [
    {
     "data": {
      "text/plain": [
       "[<selenium.webdriver.remote.webelement.WebElement (session=\"bd74fe8a7df2bc00f9d67528925cb8c6\", element=\"a066143f-6eb7-4f7e-88e4-bcac38110a16\")>]"
      ]
     },
     "execution_count": 92,
     "metadata": {},
     "output_type": "execute_result"
    }
   ],
   "source": [
    "Last_week_rank=driver.find_elements_by_xpath(\"/html/body/div[4]/main/div[2]/div[3]/div/div/div/div[2]/div[2]/ul/li[4]/ul/li[7]/ul/li[3]/span\")\n",
    "Last_week_rank[0:1]"
   ]
  },
  {
   "cell_type": "code",
   "execution_count": 94,
   "id": "3cd267f9",
   "metadata": {},
   "outputs": [
    {
     "data": {
      "text/plain": [
       "[<selenium.webdriver.remote.webelement.WebElement (session=\"bd74fe8a7df2bc00f9d67528925cb8c6\", element=\"a066143f-6eb7-4f7e-88e4-bcac38110a16\")>,\n",
       " '2']"
      ]
     },
     "execution_count": 94,
     "metadata": {},
     "output_type": "execute_result"
    }
   ],
   "source": [
    "Last_week_rank"
   ]
  },
  {
   "cell_type": "code",
   "execution_count": 95,
   "id": "6d84c39a",
   "metadata": {},
   "outputs": [
    {
     "data": {
      "text/plain": [
       "[<selenium.webdriver.remote.webelement.WebElement (session=\"bd74fe8a7df2bc00f9d67528925cb8c6\", element=\"9b719036-2686-4785-ab88-8633a4846142\")>]"
      ]
     },
     "execution_count": 95,
     "metadata": {},
     "output_type": "execute_result"
    }
   ],
   "source": [
    "Peak_rank=driver.find_elements_by_xpath(\"/html/body/div[4]/main/div[2]/div[3]/div/div/div/div[2]/div[2]/ul/li[4]/ul/li[7]/ul/li[4]/span\")\n",
    "Peak_rank[0:1]"
   ]
  },
  {
   "cell_type": "code",
   "execution_count": 97,
   "id": "566a2eb6",
   "metadata": {},
   "outputs": [
    {
     "data": {
      "text/plain": [
       "[<selenium.webdriver.remote.webelement.WebElement (session=\"bd74fe8a7df2bc00f9d67528925cb8c6\", element=\"9b719036-2686-4785-ab88-8633a4846142\")>,\n",
       " '1']"
      ]
     },
     "execution_count": 97,
     "metadata": {},
     "output_type": "execute_result"
    }
   ],
   "source": [
    "Peak_rank"
   ]
  },
  {
   "cell_type": "code",
   "execution_count": 98,
   "id": "83fa1820",
   "metadata": {},
   "outputs": [
    {
     "data": {
      "text/plain": [
       "[<selenium.webdriver.remote.webelement.WebElement (session=\"bd74fe8a7df2bc00f9d67528925cb8c6\", element=\"3deaedad-4f0b-42dd-8eb2-eb994c10f45a\")>]"
      ]
     },
     "execution_count": 98,
     "metadata": {},
     "output_type": "execute_result"
    }
   ],
   "source": [
    "Weeks_on_board=driver.find_elements_by_xpath(\"/html/body/div[4]/main/div[2]/div[3]/div/div/div/div[2]/div[2]/ul/li[4]/ul/li[7]/ul/li[5]/span\")\n",
    "Weeks_on_board[0:1]"
   ]
  },
  {
   "cell_type": "code",
   "execution_count": 100,
   "id": "913e25f9",
   "metadata": {},
   "outputs": [
    {
     "data": {
      "text/plain": [
       "[<selenium.webdriver.remote.webelement.WebElement (session=\"bd74fe8a7df2bc00f9d67528925cb8c6\", element=\"3deaedad-4f0b-42dd-8eb2-eb994c10f45a\")>,\n",
       " '8']"
      ]
     },
     "execution_count": 100,
     "metadata": {},
     "output_type": "execute_result"
    }
   ],
   "source": [
    "Weeks_on_board"
   ]
  },
  {
   "cell_type": "code",
   "execution_count": 101,
   "id": "3cd45720",
   "metadata": {},
   "outputs": [],
   "source": [
    "driver.close()"
   ]
  },
  {
   "cell_type": "markdown",
   "id": "1b37c0dd",
   "metadata": {},
   "source": [
    "# 3. Scrape the details of selenium exception from guru99.com."
   ]
  },
  {
   "cell_type": "code",
   "execution_count": 59,
   "id": "179fc06f",
   "metadata": {},
   "outputs": [],
   "source": [
    "import selenium\n",
    "import pandas as pd\n",
    "from selenium import webdriver\n",
    "import warnings\n",
    "warnings.filterwarnings(\"ignore\")\n",
    "import time\n",
    "import re"
   ]
  },
  {
   "cell_type": "code",
   "execution_count": 60,
   "id": "d3afadb1",
   "metadata": {},
   "outputs": [],
   "source": [
    "driver = webdriver.Chrome(r\"C:\\Users\\Administrator\\Downloads\\chromedriver_win32 (1)\\chromedriver.exe\")"
   ]
  },
  {
   "cell_type": "code",
   "execution_count": 61,
   "id": "38ae15c6",
   "metadata": {},
   "outputs": [],
   "source": [
    "driver.get('https://www.guru99.com/')"
   ]
  },
  {
   "cell_type": "code",
   "execution_count": 62,
   "id": "6d719a79",
   "metadata": {},
   "outputs": [],
   "source": [
    "search_button=driver.find_element_by_xpath(\"/html/body/div[1]/div/div/div/main/div/article/div/div[1]/div[2]/div[1]/div/ul[1]/li[3]/a\")\n",
    "search_button.click()"
   ]
  },
  {
   "cell_type": "code",
   "execution_count": 63,
   "id": "9b85606c",
   "metadata": {},
   "outputs": [],
   "source": [
    "search_button=driver.find_element_by_xpath(\"/html/body/div[1]/div/div/div/main/div/article/div/div/table[5]/tbody/tr[34]/td[1]/a\")\n",
    "search_button.click()"
   ]
  },
  {
   "cell_type": "code",
   "execution_count": 72,
   "id": "30433812",
   "metadata": {},
   "outputs": [
    {
     "data": {
      "text/plain": [
       "[<selenium.webdriver.remote.webelement.WebElement (session=\"f619803bfbb4676e23ae1c50d505cdb3\", element=\"b3ea5a1d-12a4-4d78-9385-b9a475838796\")>]"
      ]
     },
     "execution_count": 72,
     "metadata": {},
     "output_type": "execute_result"
    }
   ],
   "source": [
    "Name=driver.find_elements_by_xpath(\"/html/body/div[1]/div/div/div/main/div/article/div/div/table/tbody/tr[2]/td[1]\")\n",
    "Name[0:1]"
   ]
  },
  {
   "cell_type": "code",
   "execution_count": 75,
   "id": "63280d9f",
   "metadata": {},
   "outputs": [
    {
     "data": {
      "text/plain": [
       "[<selenium.webdriver.remote.webelement.WebElement (session=\"f619803bfbb4676e23ae1c50d505cdb3\", element=\"b3ea5a1d-12a4-4d78-9385-b9a475838796\")>,\n",
       " 'ElementNotVisibleException']"
      ]
     },
     "execution_count": 75,
     "metadata": {},
     "output_type": "execute_result"
    }
   ],
   "source": [
    "Name"
   ]
  },
  {
   "cell_type": "code",
   "execution_count": 76,
   "id": "9e4529cb",
   "metadata": {},
   "outputs": [
    {
     "data": {
      "text/plain": [
       "[<selenium.webdriver.remote.webelement.WebElement (session=\"f619803bfbb4676e23ae1c50d505cdb3\", element=\"dd14b446-88f5-480c-956c-c90cba1cb112\")>]"
      ]
     },
     "execution_count": 76,
     "metadata": {},
     "output_type": "execute_result"
    }
   ],
   "source": [
    "Description=driver.find_elements_by_xpath(\"/html/body/div[1]/div/div/div/main/div/article/div/div/table/tbody/tr[2]/td[2]\")\n",
    "Description[0:1]"
   ]
  },
  {
   "cell_type": "code",
   "execution_count": 78,
   "id": "d714c47c",
   "metadata": {},
   "outputs": [
    {
     "data": {
      "text/plain": [
       "[<selenium.webdriver.remote.webelement.WebElement (session=\"f619803bfbb4676e23ae1c50d505cdb3\", element=\"dd14b446-88f5-480c-956c-c90cba1cb112\")>,\n",
       " 'This type of Selenium exception occurs when an existing element in DOM has a feature set as hidden.']"
      ]
     },
     "execution_count": 78,
     "metadata": {},
     "output_type": "execute_result"
    }
   ],
   "source": [
    "Description"
   ]
  },
  {
   "cell_type": "code",
   "execution_count": 79,
   "id": "d70ae280",
   "metadata": {},
   "outputs": [
    {
     "data": {
      "text/plain": [
       "[<selenium.webdriver.remote.webelement.WebElement (session=\"f619803bfbb4676e23ae1c50d505cdb3\", element=\"3558c424-2a81-4b10-bcca-44ee905f07a9\")>]"
      ]
     },
     "execution_count": 79,
     "metadata": {},
     "output_type": "execute_result"
    }
   ],
   "source": [
    "Name=driver.find_elements_by_xpath(\"/html/body/div[1]/div/div/div/main/div/article/div/div/table/tbody/tr[3]/td[1]\")\n",
    "Name[0:1]"
   ]
  },
  {
   "cell_type": "code",
   "execution_count": 81,
   "id": "2c3aae1d",
   "metadata": {},
   "outputs": [
    {
     "data": {
      "text/plain": [
       "[<selenium.webdriver.remote.webelement.WebElement (session=\"f619803bfbb4676e23ae1c50d505cdb3\", element=\"3558c424-2a81-4b10-bcca-44ee905f07a9\")>,\n",
       " 'ElementNotSelectableException']"
      ]
     },
     "execution_count": 81,
     "metadata": {},
     "output_type": "execute_result"
    }
   ],
   "source": [
    "Name"
   ]
  },
  {
   "cell_type": "code",
   "execution_count": 82,
   "id": "c1fa20fe",
   "metadata": {},
   "outputs": [
    {
     "data": {
      "text/plain": [
       "[<selenium.webdriver.remote.webelement.WebElement (session=\"f619803bfbb4676e23ae1c50d505cdb3\", element=\"41792f30-af2d-45b8-abf1-bf809bb6419b\")>]"
      ]
     },
     "execution_count": 82,
     "metadata": {},
     "output_type": "execute_result"
    }
   ],
   "source": [
    "Description=driver.find_elements_by_xpath(\"/html/body/div[1]/div/div/div/main/div/article/div/div/table/tbody/tr[3]/td[2]\")\n",
    "Description[0:1]"
   ]
  },
  {
   "cell_type": "code",
   "execution_count": 84,
   "id": "cc11aece",
   "metadata": {},
   "outputs": [
    {
     "data": {
      "text/plain": [
       "[<selenium.webdriver.remote.webelement.WebElement (session=\"f619803bfbb4676e23ae1c50d505cdb3\", element=\"41792f30-af2d-45b8-abf1-bf809bb6419b\")>,\n",
       " 'This Selenium exception occurs when an element is presented in the DOM, but you can be able to select. Therefore, it is not possible to interact.']"
      ]
     },
     "execution_count": 84,
     "metadata": {},
     "output_type": "execute_result"
    }
   ],
   "source": [
    "Description"
   ]
  },
  {
   "cell_type": "code",
   "execution_count": 85,
   "id": "b19a2322",
   "metadata": {},
   "outputs": [
    {
     "data": {
      "text/plain": [
       "[<selenium.webdriver.remote.webelement.WebElement (session=\"f619803bfbb4676e23ae1c50d505cdb3\", element=\"c8031835-013a-4678-8480-3b0afc6a2700\")>]"
      ]
     },
     "execution_count": 85,
     "metadata": {},
     "output_type": "execute_result"
    }
   ],
   "source": [
    "Name=driver.find_elements_by_xpath(\"/html/body/div[1]/div/div/div/main/div/article/div/div/table/tbody/tr[4]/td[1]\")\n",
    "Name[0:1]"
   ]
  },
  {
   "cell_type": "code",
   "execution_count": 87,
   "id": "c162fbe9",
   "metadata": {},
   "outputs": [
    {
     "data": {
      "text/plain": [
       "[<selenium.webdriver.remote.webelement.WebElement (session=\"f619803bfbb4676e23ae1c50d505cdb3\", element=\"c8031835-013a-4678-8480-3b0afc6a2700\")>,\n",
       " 'NoSuchElementException']"
      ]
     },
     "execution_count": 87,
     "metadata": {},
     "output_type": "execute_result"
    }
   ],
   "source": [
    "Name"
   ]
  },
  {
   "cell_type": "code",
   "execution_count": 88,
   "id": "2af2f1e2",
   "metadata": {},
   "outputs": [
    {
     "data": {
      "text/plain": [
       "[<selenium.webdriver.remote.webelement.WebElement (session=\"f619803bfbb4676e23ae1c50d505cdb3\", element=\"bd5a697d-d31a-433f-9d13-dcccffd12ed5\")>]"
      ]
     },
     "execution_count": 88,
     "metadata": {},
     "output_type": "execute_result"
    }
   ],
   "source": [
    "Description=driver.find_elements_by_xpath(\"/html/body/div[1]/div/div/div/main/div/article/div/div/table/tbody/tr[4]/td[2]\")\n",
    "Description[0:1]"
   ]
  },
  {
   "cell_type": "code",
   "execution_count": 90,
   "id": "c0dd1bb7",
   "metadata": {},
   "outputs": [
    {
     "data": {
      "text/plain": [
       "[<selenium.webdriver.remote.webelement.WebElement (session=\"f619803bfbb4676e23ae1c50d505cdb3\", element=\"bd5a697d-d31a-433f-9d13-dcccffd12ed5\")>,\n",
       " 'This Exception occurs if an element could not be found.']"
      ]
     },
     "execution_count": 90,
     "metadata": {},
     "output_type": "execute_result"
    }
   ],
   "source": [
    "Description"
   ]
  },
  {
   "cell_type": "code",
   "execution_count": 91,
   "id": "9cd36f1f",
   "metadata": {},
   "outputs": [
    {
     "data": {
      "text/plain": [
       "[<selenium.webdriver.remote.webelement.WebElement (session=\"f619803bfbb4676e23ae1c50d505cdb3\", element=\"7657bc17-4cc0-4144-8142-39f716e0b8a4\")>]"
      ]
     },
     "execution_count": 91,
     "metadata": {},
     "output_type": "execute_result"
    }
   ],
   "source": [
    "Name=driver.find_elements_by_xpath(\"/html/body/div[1]/div/div/div/main/div/article/div/div/table/tbody/tr[5]/td[1]\")\n",
    "Name[0:1]"
   ]
  },
  {
   "cell_type": "code",
   "execution_count": 93,
   "id": "b54d33ba",
   "metadata": {},
   "outputs": [
    {
     "data": {
      "text/plain": [
       "[<selenium.webdriver.remote.webelement.WebElement (session=\"f619803bfbb4676e23ae1c50d505cdb3\", element=\"7657bc17-4cc0-4144-8142-39f716e0b8a4\")>,\n",
       " 'NoSuchFrameException']"
      ]
     },
     "execution_count": 93,
     "metadata": {},
     "output_type": "execute_result"
    }
   ],
   "source": [
    "Name"
   ]
  },
  {
   "cell_type": "code",
   "execution_count": 94,
   "id": "b5ce4007",
   "metadata": {},
   "outputs": [
    {
     "data": {
      "text/plain": [
       "[<selenium.webdriver.remote.webelement.WebElement (session=\"f619803bfbb4676e23ae1c50d505cdb3\", element=\"21d712d8-08e2-4e8e-a9cf-081b936e2f8e\")>]"
      ]
     },
     "execution_count": 94,
     "metadata": {},
     "output_type": "execute_result"
    }
   ],
   "source": [
    "Description=driver.find_elements_by_xpath(\"/html/body/div[1]/div/div/div/main/div/article/div/div/table/tbody/tr[5]/td[2]\")\n",
    "Description[0:1]"
   ]
  },
  {
   "cell_type": "code",
   "execution_count": 96,
   "id": "9dc490f3",
   "metadata": {},
   "outputs": [
    {
     "data": {
      "text/plain": [
       "[<selenium.webdriver.remote.webelement.WebElement (session=\"f619803bfbb4676e23ae1c50d505cdb3\", element=\"21d712d8-08e2-4e8e-a9cf-081b936e2f8e\")>,\n",
       " 'This Exception occurs if the frame target to be switched to does not exist.']"
      ]
     },
     "execution_count": 96,
     "metadata": {},
     "output_type": "execute_result"
    }
   ],
   "source": [
    "Description"
   ]
  },
  {
   "cell_type": "code",
   "execution_count": 97,
   "id": "a4d53016",
   "metadata": {},
   "outputs": [],
   "source": [
    "driver.close()"
   ]
  },
  {
   "cell_type": "markdown",
   "id": "6ea19806",
   "metadata": {},
   "source": [
    "# 5. Scrape the details of trending repositories on Github.com."
   ]
  },
  {
   "cell_type": "code",
   "execution_count": 98,
   "id": "2cbf3170",
   "metadata": {},
   "outputs": [],
   "source": [
    "import selenium\n",
    "import pandas as pd\n",
    "from selenium import webdriver\n",
    "import warnings\n",
    "warnings.filterwarnings(\"ignore\")\n",
    "import time\n",
    "import re"
   ]
  },
  {
   "cell_type": "code",
   "execution_count": 99,
   "id": "3c9e8398",
   "metadata": {},
   "outputs": [],
   "source": [
    "driver = webdriver.Chrome(r\"C:\\Users\\Administrator\\Downloads\\chromedriver_win32 (1)\\chromedriver.exe\")"
   ]
  },
  {
   "cell_type": "code",
   "execution_count": 100,
   "id": "6fa394f1",
   "metadata": {},
   "outputs": [],
   "source": [
    "driver.get('https://github.com/')"
   ]
  },
  {
   "cell_type": "code",
   "execution_count": 101,
   "id": "bcd8d769",
   "metadata": {},
   "outputs": [],
   "source": [
    "search_button=driver.find_element_by_xpath(\"/html/body/div[1]/header/div/div[2]/nav/ul/li[4]/details/summary\")\n",
    "search_button.click()"
   ]
  },
  {
   "cell_type": "code",
   "execution_count": 107,
   "id": "b69448b0",
   "metadata": {},
   "outputs": [
    {
     "data": {
      "text/plain": [
       "[<selenium.webdriver.remote.webelement.WebElement (session=\"e166ae90b0227b4f2aee8aa49d366676\", element=\"4399b15c-53e1-4492-8712-ed005045d38a\")>]"
      ]
     },
     "execution_count": 107,
     "metadata": {},
     "output_type": "execute_result"
    }
   ],
   "source": [
    "Repository_title=driver.find_elements_by_xpath(\"/html/body/div[4]/main/div[3]/div/div[2]/article[13]/h1/a\")\n",
    "Repository_title[0:1]"
   ]
  },
  {
   "cell_type": "code",
   "execution_count": 109,
   "id": "f1edf109",
   "metadata": {},
   "outputs": [
    {
     "data": {
      "text/plain": [
       "[<selenium.webdriver.remote.webelement.WebElement (session=\"e166ae90b0227b4f2aee8aa49d366676\", element=\"4399b15c-53e1-4492-8712-ed005045d38a\")>,\n",
       " 'RasaHQ / rasa']"
      ]
     },
     "execution_count": 109,
     "metadata": {},
     "output_type": "execute_result"
    }
   ],
   "source": [
    "Repository_title"
   ]
  },
  {
   "cell_type": "code",
   "execution_count": 111,
   "id": "e8b6cf35",
   "metadata": {},
   "outputs": [
    {
     "data": {
      "text/plain": [
       "[<selenium.webdriver.remote.webelement.WebElement (session=\"e166ae90b0227b4f2aee8aa49d366676\", element=\"8329acda-6e84-4190-a719-559f468826b7\")>]"
      ]
     },
     "execution_count": 111,
     "metadata": {},
     "output_type": "execute_result"
    }
   ],
   "source": [
    "Repository_description=driver.find_elements_by_xpath(\"/html/body/div[4]/main/div[3]/div/div[2]/article[13]/p\")\n",
    "Repository_description[0:1]"
   ]
  },
  {
   "cell_type": "code",
   "execution_count": 113,
   "id": "3dc70a5b",
   "metadata": {},
   "outputs": [
    {
     "data": {
      "text/plain": [
       "[<selenium.webdriver.remote.webelement.WebElement (session=\"e166ae90b0227b4f2aee8aa49d366676\", element=\"8329acda-6e84-4190-a719-559f468826b7\")>,\n",
       " '💬 Open source machine learning framework to automate text- and voice-based conversations: NLU, dialogue management, connect to Slack, Facebook, and more - Create chatbots and voice assistants']"
      ]
     },
     "execution_count": 113,
     "metadata": {},
     "output_type": "execute_result"
    }
   ],
   "source": [
    "Repository_description"
   ]
  },
  {
   "cell_type": "code",
   "execution_count": 114,
   "id": "01dcd955",
   "metadata": {},
   "outputs": [
    {
     "data": {
      "text/plain": [
       "[<selenium.webdriver.remote.webelement.WebElement (session=\"e166ae90b0227b4f2aee8aa49d366676\", element=\"2684d762-9ceb-4af0-9f7a-196d59e1c0c3\")>]"
      ]
     },
     "execution_count": 114,
     "metadata": {},
     "output_type": "execute_result"
    }
   ],
   "source": [
    "Contributors_count=driver.find_elements_by_xpath(\"/html/body/div[4]/main/div[3]/div/div[2]/article[13]/div[2]/a[2]\")\n",
    "Contributors_count[0:1]"
   ]
  },
  {
   "cell_type": "code",
   "execution_count": 116,
   "id": "9e20ac59",
   "metadata": {},
   "outputs": [
    {
     "data": {
      "text/plain": [
       "[<selenium.webdriver.remote.webelement.WebElement (session=\"e166ae90b0227b4f2aee8aa49d366676\", element=\"2684d762-9ceb-4af0-9f7a-196d59e1c0c3\")>,\n",
       " '4,015']"
      ]
     },
     "execution_count": 116,
     "metadata": {},
     "output_type": "execute_result"
    }
   ],
   "source": [
    "Contributors_count"
   ]
  },
  {
   "cell_type": "code",
   "execution_count": 117,
   "id": "688c18d4",
   "metadata": {},
   "outputs": [
    {
     "data": {
      "text/plain": [
       "[<selenium.webdriver.remote.webelement.WebElement (session=\"e166ae90b0227b4f2aee8aa49d366676\", element=\"64c7caa2-3169-46ae-a1d4-db2eca1df2b6\")>]"
      ]
     },
     "execution_count": 117,
     "metadata": {},
     "output_type": "execute_result"
    }
   ],
   "source": [
    "Language_used=driver.find_elements_by_xpath(\"/html/body/div[4]/main/div[3]/div/div[2]/article[13]/div[2]/span[1]/span[2]\")\n",
    "Language_used[0:1]"
   ]
  },
  {
   "cell_type": "code",
   "execution_count": 119,
   "id": "497c676a",
   "metadata": {},
   "outputs": [
    {
     "data": {
      "text/plain": [
       "[<selenium.webdriver.remote.webelement.WebElement (session=\"e166ae90b0227b4f2aee8aa49d366676\", element=\"64c7caa2-3169-46ae-a1d4-db2eca1df2b6\")>,\n",
       " 'Python']"
      ]
     },
     "execution_count": 119,
     "metadata": {},
     "output_type": "execute_result"
    }
   ],
   "source": [
    "Language_used"
   ]
  },
  {
   "cell_type": "code",
   "execution_count": 120,
   "id": "09760a39",
   "metadata": {},
   "outputs": [],
   "source": [
    "driver.close()"
   ]
  },
  {
   "cell_type": "markdown",
   "id": "6859ad6d",
   "metadata": {},
   "source": [
    "# 1. Scrape the details of most viewed videos on YouTube from Wikipedia."
   ]
  },
  {
   "cell_type": "code",
   "execution_count": 121,
   "id": "0967bba9",
   "metadata": {},
   "outputs": [],
   "source": [
    "import selenium\n",
    "import pandas as pd\n",
    "from selenium import webdriver\n",
    "import warnings\n",
    "warnings.filterwarnings(\"ignore\")\n",
    "import time\n",
    "import re"
   ]
  },
  {
   "cell_type": "code",
   "execution_count": 122,
   "id": "9ec72b44",
   "metadata": {},
   "outputs": [],
   "source": [
    "driver = webdriver.Chrome(r\"C:\\Users\\Administrator\\Downloads\\chromedriver_win32 (1)\\chromedriver.exe\")"
   ]
  },
  {
   "cell_type": "code",
   "execution_count": 123,
   "id": "854b3a16",
   "metadata": {},
   "outputs": [],
   "source": [
    "driver.get('https://en.wikipedia.org/wiki/List_of_most-viewed_YouTube_videos')"
   ]
  },
  {
   "cell_type": "code",
   "execution_count": 127,
   "id": "22858d50",
   "metadata": {},
   "outputs": [
    {
     "data": {
      "text/plain": [
       "[<selenium.webdriver.remote.webelement.WebElement (session=\"12974833ecec0e1cdd85821fbf07a76b\", element=\"b2b673c6-e631-4991-a206-9361e31d1910\")>]"
      ]
     },
     "execution_count": 127,
     "metadata": {},
     "output_type": "execute_result"
    }
   ],
   "source": [
    "Name=driver.find_elements_by_xpath(\"/html/body/div[3]/div[3]/div[5]/div[1]/table[3]/tbody/tr[2]/td[2]/a\")\n",
    "Name[0:1]"
   ]
  },
  {
   "cell_type": "code",
   "execution_count": 130,
   "id": "4b9e345b",
   "metadata": {},
   "outputs": [
    {
     "data": {
      "text/plain": [
       "[<selenium.webdriver.remote.webelement.WebElement (session=\"12974833ecec0e1cdd85821fbf07a76b\", element=\"b2b673c6-e631-4991-a206-9361e31d1910\")>,\n",
       " 'Despacito']"
      ]
     },
     "execution_count": 130,
     "metadata": {},
     "output_type": "execute_result"
    }
   ],
   "source": [
    "Name"
   ]
  },
  {
   "cell_type": "code",
   "execution_count": 131,
   "id": "6cdc53d3",
   "metadata": {},
   "outputs": [
    {
     "data": {
      "text/plain": [
       "[<selenium.webdriver.remote.webelement.WebElement (session=\"12974833ecec0e1cdd85821fbf07a76b\", element=\"74fb8ac5-6ea5-4380-a493-72e998f0235d\")>]"
      ]
     },
     "execution_count": 131,
     "metadata": {},
     "output_type": "execute_result"
    }
   ],
   "source": [
    "Artist=driver.find_elements_by_xpath(\"/html/body/div[3]/div[3]/div[5]/div[1]/table[3]/tbody/tr[2]/td[3]/a\")\n",
    "Artist[0:1]"
   ]
  },
  {
   "cell_type": "code",
   "execution_count": 133,
   "id": "cd8b8f7d",
   "metadata": {},
   "outputs": [
    {
     "data": {
      "text/plain": [
       "[<selenium.webdriver.remote.webelement.WebElement (session=\"12974833ecec0e1cdd85821fbf07a76b\", element=\"74fb8ac5-6ea5-4380-a493-72e998f0235d\")>,\n",
       " 'Luis Fonsi']"
      ]
     },
     "execution_count": 133,
     "metadata": {},
     "output_type": "execute_result"
    }
   ],
   "source": [
    "Artist"
   ]
  },
  {
   "cell_type": "code",
   "execution_count": 134,
   "id": "f93079a0",
   "metadata": {},
   "outputs": [
    {
     "data": {
      "text/plain": [
       "[<selenium.webdriver.remote.webelement.WebElement (session=\"12974833ecec0e1cdd85821fbf07a76b\", element=\"68f5290e-6855-460b-8fd7-08e59115d26a\")>]"
      ]
     },
     "execution_count": 134,
     "metadata": {},
     "output_type": "execute_result"
    }
   ],
   "source": [
    "Upload_date=driver.find_elements_by_xpath(\"/html/body/div[3]/div[3]/div[5]/div[1]/table[3]/tbody/tr[2]/td[5]\")\n",
    "Upload_date[0:1]"
   ]
  },
  {
   "cell_type": "code",
   "execution_count": 136,
   "id": "825293a3",
   "metadata": {},
   "outputs": [
    {
     "data": {
      "text/plain": [
       "[<selenium.webdriver.remote.webelement.WebElement (session=\"12974833ecec0e1cdd85821fbf07a76b\", element=\"68f5290e-6855-460b-8fd7-08e59115d26a\")>,\n",
       " 'January 12, 2017']"
      ]
     },
     "execution_count": 136,
     "metadata": {},
     "output_type": "execute_result"
    }
   ],
   "source": [
    "Upload_date"
   ]
  },
  {
   "cell_type": "code",
   "execution_count": 137,
   "id": "2d098ed0",
   "metadata": {},
   "outputs": [
    {
     "data": {
      "text/plain": [
       "[<selenium.webdriver.remote.webelement.WebElement (session=\"12974833ecec0e1cdd85821fbf07a76b\", element=\"6e59f73c-0ac4-4c97-b5ac-b98054a1c08a\")>]"
      ]
     },
     "execution_count": 137,
     "metadata": {},
     "output_type": "execute_result"
    }
   ],
   "source": [
    "Views=driver.find_elements_by_xpath(\"/html/body/div[3]/div[3]/div[5]/div[1]/table[3]/tbody/tr[2]/td[4]\")\n",
    "Views[0:1]"
   ]
  },
  {
   "cell_type": "code",
   "execution_count": 139,
   "id": "11154d3f",
   "metadata": {},
   "outputs": [
    {
     "data": {
      "text/plain": [
       "[<selenium.webdriver.remote.webelement.WebElement (session=\"12974833ecec0e1cdd85821fbf07a76b\", element=\"6e59f73c-0ac4-4c97-b5ac-b98054a1c08a\")>,\n",
       " '7.85']"
      ]
     },
     "execution_count": 139,
     "metadata": {},
     "output_type": "execute_result"
    }
   ],
   "source": [
    "Views"
   ]
  },
  {
   "cell_type": "code",
   "execution_count": 141,
   "id": "ae26b6cd",
   "metadata": {},
   "outputs": [
    {
     "data": {
      "text/plain": [
       "[<selenium.webdriver.remote.webelement.WebElement (session=\"12974833ecec0e1cdd85821fbf07a76b\", element=\"971ead9f-b02a-4b99-9b89-8f24aa266a6f\")>]"
      ]
     },
     "execution_count": 141,
     "metadata": {},
     "output_type": "execute_result"
    }
   ],
   "source": [
    "Rank=driver.find_elements_by_xpath(\"/html/body/div[3]/div[3]/div[5]/div[1]/table[3]/tbody/tr[2]/td[6]/sup/a\")\n",
    "Rank[0:1]"
   ]
  },
  {
   "cell_type": "code",
   "execution_count": 143,
   "id": "294be1ab",
   "metadata": {},
   "outputs": [
    {
     "data": {
      "text/plain": [
       "[<selenium.webdriver.remote.webelement.WebElement (session=\"12974833ecec0e1cdd85821fbf07a76b\", element=\"971ead9f-b02a-4b99-9b89-8f24aa266a6f\")>,\n",
       " '[B]']"
      ]
     },
     "execution_count": 143,
     "metadata": {},
     "output_type": "execute_result"
    }
   ],
   "source": [
    "Rank"
   ]
  },
  {
   "cell_type": "code",
   "execution_count": 144,
   "id": "920f4249",
   "metadata": {},
   "outputs": [],
   "source": [
    "driver.close()"
   ]
  },
  {
   "cell_type": "markdown",
   "id": "6bb9d6d7",
   "metadata": {},
   "source": [
    "# 7. Scrape the details of Data science recruiters from naukri.com."
   ]
  },
  {
   "cell_type": "code",
   "execution_count": 145,
   "id": "98c378e0",
   "metadata": {},
   "outputs": [],
   "source": [
    "import selenium\n",
    "import pandas as pd\n",
    "from selenium import webdriver\n",
    "import warnings\n",
    "warnings.filterwarnings(\"ignore\")\n",
    "import time\n",
    "import re"
   ]
  },
  {
   "cell_type": "code",
   "execution_count": 161,
   "id": "62113851",
   "metadata": {},
   "outputs": [],
   "source": [
    "driver = webdriver.Chrome(r\"C:\\Users\\Administrator\\Downloads\\chromedriver_win32 (1)\\chromedriver.exe\")"
   ]
  },
  {
   "cell_type": "code",
   "execution_count": 162,
   "id": "4a4317a8",
   "metadata": {},
   "outputs": [],
   "source": [
    "driver.get('https://www.naukri.com/')"
   ]
  },
  {
   "cell_type": "code",
   "execution_count": 164,
   "id": "3ebb350f",
   "metadata": {},
   "outputs": [],
   "source": [
    "search_button=driver.find_element_by_xpath('/html/body/div/div[2]/div[1]/div/ul/li[1]/a/div')\n",
    "search_button.click()"
   ]
  },
  {
   "cell_type": "code",
   "execution_count": 165,
   "id": "b01a1a07",
   "metadata": {},
   "outputs": [
    {
     "data": {
      "text/plain": [
       "<selenium.webdriver.remote.webelement.WebElement (session=\"452243fb7777d8f13622366ef064ffbb\", element=\"234772c5-5ca6-44a1-90f3-e48300e7eedd\")>"
      ]
     },
     "execution_count": 165,
     "metadata": {},
     "output_type": "execute_result"
    }
   ],
   "source": [
    "search_g= driver.find_element_by_xpath(\"//div[@class='mTxt']\") \n",
    "search_g"
   ]
  },
  {
   "cell_type": "code",
   "execution_count": 174,
   "id": "91e0d2e5",
   "metadata": {},
   "outputs": [],
   "source": [
    "search_field_designation=driver.find_element_by_class_name(\"suggestor-input\")\n"
   ]
  },
  {
   "cell_type": "code",
   "execution_count": 175,
   "id": "23813920",
   "metadata": {},
   "outputs": [],
   "source": [
    "search_field_designation.send_keys(\"Data science\")"
   ]
  },
  {
   "cell_type": "code",
   "execution_count": 180,
   "id": "481e627e",
   "metadata": {},
   "outputs": [],
   "source": [
    "Name=[]\n",
    "Designation=[]\n",
    "Company=[]\n",
    "Skills_they_hire_for=[]\n",
    "Location=[]"
   ]
  },
  {
   "cell_type": "code",
   "execution_count": 184,
   "id": "a5391fb2",
   "metadata": {},
   "outputs": [
    {
     "data": {
      "text/plain": [
       "[]"
      ]
     },
     "execution_count": 184,
     "metadata": {},
     "output_type": "execute_result"
    }
   ],
   "source": [
    "Name_recruiters=driver.find_elements_by_xpath(\"/html/body/div[3]/div/div[2]/div/div[2]/div[1]/div[1]/div[1]/div[1]/p/a[1]\")\n",
    "Name_recruiters[0:1]"
   ]
  },
  {
   "cell_type": "code",
   "execution_count": 185,
   "id": "5459c464",
   "metadata": {},
   "outputs": [
    {
     "data": {
      "text/plain": [
       "[]"
      ]
     },
     "execution_count": 185,
     "metadata": {},
     "output_type": "execute_result"
    }
   ],
   "source": [
    "Company=driver.find_elements_by_xpath(\"/html/body/div[3]/div/div[2]/div/div[2]/div[1]/div[1]/div[1]/div[1]/p/a[2]\")\n",
    "Company[0:1]"
   ]
  },
  {
   "cell_type": "code",
   "execution_count": null,
   "id": "cd461424",
   "metadata": {},
   "outputs": [],
   "source": []
  }
 ],
 "metadata": {
  "kernelspec": {
   "display_name": "Python 3",
   "language": "python",
   "name": "python3"
  },
  "language_info": {
   "codemirror_mode": {
    "name": "ipython",
    "version": 3
   },
   "file_extension": ".py",
   "mimetype": "text/x-python",
   "name": "python",
   "nbconvert_exporter": "python",
   "pygments_lexer": "ipython3",
   "version": "3.8.8"
  }
 },
 "nbformat": 4,
 "nbformat_minor": 5
}
